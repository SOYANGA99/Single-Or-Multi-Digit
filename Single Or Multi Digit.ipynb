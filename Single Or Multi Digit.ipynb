{
 "cells": [
  {
   "cell_type": "code",
   "execution_count": 2,
   "id": "2f6b67cd",
   "metadata": {},
   "outputs": [
    {
     "name": "stdout",
     "output_type": "stream",
     "text": [
      "Enter a no:--98\n",
      "No Is Multi Digit\n"
     ]
    }
   ],
   "source": [
    "no= int(input(\"Enter a no:-\"))\n",
    "if(no>=-9) and (no<=9):\n",
    "    print(\"No Is Single Digit\")\n",
    "else:\n",
    "    print(\"No Is Multi Digit\")"
   ]
  },
  {
   "cell_type": "code",
   "execution_count": null,
   "id": "f4810cdd",
   "metadata": {},
   "outputs": [],
   "source": []
  }
 ],
 "metadata": {
  "kernelspec": {
   "display_name": "Python 3 (ipykernel)",
   "language": "python",
   "name": "python3"
  },
  "language_info": {
   "codemirror_mode": {
    "name": "ipython",
    "version": 3
   },
   "file_extension": ".py",
   "mimetype": "text/x-python",
   "name": "python",
   "nbconvert_exporter": "python",
   "pygments_lexer": "ipython3",
   "version": "3.9.7"
  }
 },
 "nbformat": 4,
 "nbformat_minor": 5
}
